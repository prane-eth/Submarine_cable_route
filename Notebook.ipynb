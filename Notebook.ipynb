{
  "nbformat": 4,
  "nbformat_minor": 0,
  "metadata": {
    "colab": {
      "name": "Submarine_cable_route.ipynb",
      "provenance": [],
      "collapsed_sections": [],
      "authorship_tag": "ABX9TyPdbBIzLSbA9v/cmC4WZFE6",
      "include_colab_link": true
    },
    "kernelspec": {
      "name": "python3",
      "display_name": "Python 3"
    },
    "language_info": {
      "name": "python"
    }
  },
  "cells": [
    {
      "cell_type": "markdown",
      "metadata": {
        "id": "view-in-github",
        "colab_type": "text"
      },
      "source": [
        "<a href=\"https://colab.research.google.com/github/vh-praneeth/Submarine_cable_route/blob/master/Notebook.ipynb\" target=\"_parent\"><img src=\"https://colab.research.google.com/assets/colab-badge.svg\" alt=\"Open In Colab\"/></a>"
      ]
    },
    {
      "cell_type": "code",
      "metadata": {
        "id": "s7n52UFxpPcz",
        "outputId": "4d7ba58c-ce62-459e-bb8b-33dd1c4b0861",
        "colab": {
          "base_uri": "https://localhost:8080/"
        }
      },
      "source": [
        "!git clone https://github.com/vh-praneeth/Submarine_cable_route 2> /dev/null\n",
        "%cd Submarine_cable_route"
      ],
      "execution_count": 1,
      "outputs": [
        {
          "output_type": "stream",
          "text": [
            "/content/Submarine_cable_route\n"
          ],
          "name": "stdout"
        }
      ]
    },
    {
      "cell_type": "markdown",
      "metadata": {
        "id": "8HoLhOQUp3gj"
      },
      "source": [
        "## Running code"
      ]
    },
    {
      "cell_type": "code",
      "metadata": {
        "id": "dUy7LulGpT1t",
        "outputId": "dab47814-09d9-4200-9fc9-5d80c645c313",
        "colab": {
          "base_uri": "https://localhost:8080/"
        }
      },
      "source": [
        "!java Test.java"
      ],
      "execution_count": 3,
      "outputs": [
        {
          "output_type": "stream",
          "text": [
            "Enter source: India_Mumbai\n",
            "Enter destination: USA\n",
            "Route: \n",
            " India_Mumbai -> India_Chennai -> Singapore -> USA\n"
          ],
          "name": "stdout"
        }
      ]
    },
    {
      "cell_type": "code",
      "metadata": {
        "id": "DigwvbiVpTty"
      },
      "source": [
        "!java Main.java"
      ],
      "execution_count": null,
      "outputs": []
    }
  ]
}