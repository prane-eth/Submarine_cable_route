{
  "nbformat": 4,
  "nbformat_minor": 0,
  "metadata": {
    "colab": {
      "name": "Submarine Notebook.ipynb",
      "provenance": [],
      "collapsed_sections": [],
      "authorship_tag": "ABX9TyNAPO31r9dErswVccG6q1TM",
      "include_colab_link": true
    },
    "kernelspec": {
      "name": "python3",
      "display_name": "Python 3"
    },
    "language_info": {
      "name": "python"
    }
  },
  "cells": [
    {
      "cell_type": "markdown",
      "metadata": {
        "id": "view-in-github",
        "colab_type": "text"
      },
      "source": [
        "<a href=\"https://colab.research.google.com/github/vh-praneeth/Submarine_cable_route/blob/master/Submarine_Notebook.ipynb\" target=\"_parent\"><img src=\"https://colab.research.google.com/assets/colab-badge.svg\" alt=\"Open In Colab\"/></a>"
      ]
    },
    {
      "cell_type": "code",
      "metadata": {
        "id": "s7n52UFxpPcz",
        "colab": {
          "base_uri": "https://localhost:8080/"
        },
        "outputId": "977ebb03-0b86-4d63-bef9-43a2bf30747c"
      },
      "source": [
        "%%bash\n",
        "cd /content  # Go to home folder. Clone repository\n",
        "git clone https://github.com/vh-praneeth/Submarine_cable_route 2> /dev/null\n",
        "echo 'Cloned successfully. Here are the files'\n",
        "echo '---------------------------------------'\n",
        "ls Submarine_cable_route"
      ],
      "execution_count": 1,
      "outputs": [
        {
          "output_type": "stream",
          "text": [
            "Cloned successfully. Here are the files\n",
            "---------------------------------------\n",
            "connections.txt\n",
            "coordinates.txt\n",
            "docs\n",
            "git_push.sh\n",
            "implementation.txt\n",
            "Main.java\n",
            "map_screenshot.png\n",
            "README.md\n",
            "RouteFinder.java\n",
            "Test.java\n"
          ],
          "name": "stdout"
        }
      ]
    },
    {
      "cell_type": "code",
      "metadata": {
        "id": "vgw7sK5T5ko5",
        "colab": {
          "base_uri": "https://localhost:8080/"
        },
        "outputId": "9316675f-7c1d-4fa7-c032-8a2fb3bed056"
      },
      "source": [
        "# go to project folder\n",
        "%cd Submarine_cable_route"
      ],
      "execution_count": 2,
      "outputs": [
        {
          "output_type": "stream",
          "text": [
            "/content/Submarine_cable_route\n"
          ],
          "name": "stdout"
        }
      ]
    },
    {
      "cell_type": "markdown",
      "metadata": {
        "id": "8HoLhOQUp3gj"
      },
      "source": [
        "### Running code"
      ]
    },
    {
      "cell_type": "code",
      "metadata": {
        "id": "dUy7LulGpT1t",
        "colab": {
          "base_uri": "https://localhost:8080/"
        },
        "outputId": "767115fb-f4ae-4479-ca07-248485d96a1f"
      },
      "source": [
        "!java Test.java"
      ],
      "execution_count": 3,
      "outputs": [
        {
          "output_type": "stream",
          "text": [
            "Enter source: India_Mumbai\n",
            "Enter destination: USA\n",
            "Route: \n",
            " India_Mumbai -> India_Chennai -> Singapore -> USA\n"
          ],
          "name": "stdout"
        }
      ]
    },
    {
      "cell_type": "code",
      "metadata": {
        "id": "DigwvbiVpTty"
      },
      "source": [
        "!java Main.java"
      ],
      "execution_count": null,
      "outputs": []
    }
  ]
}